{
 "cells": [
  {
   "cell_type": "code",
   "execution_count": 5,
   "id": "1b6a4e51-d4f0-481d-9fe7-e12fc8f28106",
   "metadata": {},
   "outputs": [],
   "source": [
    "from gremlin_python import statics\n",
    "from gremlin_python.structure.graph import Graph\n",
    "from gremlin_python.process.graph_traversal import __\n",
    "from gremlin_python.driver.driver_remote_connection import DriverRemoteConnection\n",
    "from gremlin_python.process.anonymous_traversal import traversal\n",
    "from gremlin_python.driver.aiohttp.transport import AiohttpTransport #Needed in order to  be able to use jupyter notebooks\n",
    "\n",
    "connection = DriverRemoteConnection('ws://localhost:8182/gremlin', 'g',transport_factory=lambda:AiohttpTransport(call_from_event_loop=True))\n",
    "\n",
    "g = traversal().withRemote(connection)"
   ]
  },
  {
   "cell_type": "code",
   "execution_count": 9,
   "id": "42f968ce-7520-4ae7-b8cb-8243540373fe",
   "metadata": {},
   "outputs": [
    {
     "data": {
      "text/plain": [
       "[['addV', 'person'], ['property', 'name', 'John'], ['none'], ['values', '_ipython_canary_method_should_not_exist_'], ['values', '_ipython_canary_method_should_not_exist_']]"
      ]
     },
     "execution_count": 9,
     "metadata": {},
     "output_type": "execute_result"
    }
   ],
   "source": [
    "g.addV(\"person\").property(\"name\", \"John\").iterate()\n"
   ]
  },
  {
   "cell_type": "code",
   "execution_count": 11,
   "id": "8c7f666f",
   "metadata": {},
   "outputs": [
    {
     "data": {
      "text/plain": [
       "[{'name': ['marko'], <T.id: 1>: 4112, <T.label: 4>: 'person'},\n",
       " {'name': ['Alice'], 'age': [30], <T.id: 1>: 4304, <T.label: 4>: 'person'},\n",
       " {'name': ['John'], <T.id: 1>: 8400, <T.label: 4>: 'person'}]"
      ]
     },
     "execution_count": 11,
     "metadata": {},
     "output_type": "execute_result"
    }
   ],
   "source": [
    "people = g.V().hasLabel('person').valueMap(True).toList()\n",
    "people"
   ]
  },
  {
   "cell_type": "code",
   "execution_count": null,
   "id": "e05203b0-9f3c-42c5-9980-c7378754ed54",
   "metadata": {},
   "outputs": [],
   "source": [
    "import csv\n",
    "\n",
    "with open('data.csv') as file:\n",
    "    reader = csv.DictReader(file)\n",
    "    for row in reader:\n",
    "        g.addV(row['label']).property('name', row['name']).property('age', int(row['age'])).next()"
   ]
  }
 ],
 "metadata": {
  "kernelspec": {
   "display_name": ".venv",
   "language": "python",
   "name": "python3"
  },
  "language_info": {
   "codemirror_mode": {
    "name": "ipython",
    "version": 3
   },
   "file_extension": ".py",
   "mimetype": "text/x-python",
   "name": "python",
   "nbconvert_exporter": "python",
   "pygments_lexer": "ipython3",
   "version": "3.12.0"
  }
 },
 "nbformat": 4,
 "nbformat_minor": 5
}
