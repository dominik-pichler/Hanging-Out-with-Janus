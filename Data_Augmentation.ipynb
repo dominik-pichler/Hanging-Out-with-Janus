{
 "cells": [
  {
   "cell_type": "markdown",
   "metadata": {},
   "source": [
    "The goal here is to artificially add ownership patterns as augmentations to the `Testdataset.rdf` "
   ]
  },
  {
   "cell_type": "code",
   "execution_count": 12,
   "metadata": {},
   "outputs": [
    {
     "name": "stderr",
     "output_type": "stream",
     "text": [
      "2025-04-25 14:33:29,384 - INFO - Loading RDF data from data/Testdataset.rdf\n",
      "2025-04-25 14:33:29,411 - INFO - Extracting company URIs from the graph\n",
      "2025-04-25 14:33:29,437 - INFO - Found 100 companies\n",
      "2025-04-25 14:33:29,438 - INFO - Generating synthetic ownership edges\n",
      "2025-04-25 14:33:29,439 - INFO - Processed 10 companies\n",
      "2025-04-25 14:33:29,440 - INFO - Processed 20 companies\n",
      "2025-04-25 14:33:29,440 - INFO - Processed 30 companies\n",
      "2025-04-25 14:33:29,441 - INFO - Processed 40 companies\n",
      "2025-04-25 14:33:29,442 - INFO - Processed 50 companies\n",
      "2025-04-25 14:33:29,443 - INFO - Processed 60 companies\n",
      "2025-04-25 14:33:29,443 - INFO - Processed 70 companies\n",
      "2025-04-25 14:33:29,444 - INFO - Processed 80 companies\n",
      "2025-04-25 14:33:29,444 - INFO - Processed 90 companies\n",
      "2025-04-25 14:33:29,445 - INFO - Processed 100 companies\n",
      "2025-04-25 14:33:29,446 - INFO - Saving updated graph to data/Augemented_Testdataset.ttl\n",
      "2025-04-25 14:33:29,468 - INFO - Done. Ownership edges added and file saved.\n"
     ]
    }
   ],
   "source": [
    "import logging\n",
    "from rdflib import Graph, Namespace, Literal,RDF,BNode\n",
    "\n",
    "\n",
    "import random\n",
    "\n",
    "# --- Logging setup ---\n",
    "logging.basicConfig(\n",
    "    level=logging.INFO,\n",
    "    format=\"%(asctime)s - %(levelname)s - %(message)s\",\n",
    "    handlers=[\n",
    "        logging.FileHandler(\"logs/Data_Augmentation.log\"),\n",
    "        logging.StreamHandler()\n",
    "    ]\n",
    ")\n",
    "logger = logging.getLogger(__name__)\n",
    "\n",
    "# --- RDF and Namespace setup ---\n",
    "g = Graph()\n",
    "input_file = \"data/Testdataset.rdf\"\n",
    "output_file = \"data/Augemented_Testdataset.ttl\"\n",
    "\n",
    "logger.info(f\"Loading RDF data from {input_file}\")\n",
    "g.parse(input_file, format=\"turtle\")\n",
    "\n",
    "# --- Namespace setup ---\n",
    "from rdflib.namespace import RDF, RDFS,URIRef  # Use built-in namespaces\n",
    "\n",
    "EX_COMP = Namespace(\"http://example.org/company/\")\n",
    "EX_EMPL = Namespace(\"http://example.org/employment/\") \n",
    "EX_ADDR = Namespace(\"http://example.org/address/\")\n",
    "EX = Namespace(\"http://example.org/\")\n",
    "\n",
    "# --- Binding all prefixes ---\n",
    "namespaces = {\n",
    "    \"rdf\": RDF,\n",
    "    \"rdfs\": RDFS,\n",
    "    \"ex\": EX,\n",
    "    \"ex_comp\": EX_COMP,\n",
    "    \"ex_empl\": EX_EMPL,\n",
    "    \"ex_addr\": EX_ADDR\n",
    "}\n",
    "\n",
    "for prefix, ns in namespaces.items():\n",
    "    g.bind(prefix, ns)\n",
    "\n",
    "# --- Extract companies ---\n",
    "logger.info(\"Extracting company URIs from the graph\")\n",
    "\n",
    "g.bind(\"ex_comp\", EX_COMP)\n",
    "\n",
    "query = \"\"\"\n",
    "SELECT DISTINCT ?entity\n",
    "WHERE {\n",
    "  ?entity ?p ?o .\n",
    "  FILTER(STRSTARTS(STR(?entity), \"ex_comp\"))\n",
    "}\n",
    "\"\"\"\n",
    "\n",
    "#   \n",
    "\n",
    "companies = [str(row.entity) for row in g.query(query)]\n",
    "\n",
    "\n",
    "#companies = [s for s, p, o in g.triples((EX.Company,None,None))]\n",
    "logger.info(f\"Found {len(companies)} companies\")\n",
    "\n",
    "# --- Generate synthetic ownership edges ---\n",
    "logger.info(\"Generating synthetic ownership edges\")\n",
    "for idx, company in enumerate(companies):\n",
    "    num_owned = random.randint(1, 3)\n",
    "    targets = random.sample(companies, num_owned)\n",
    "    for target in targets:\n",
    "        try:\n",
    "            share = Literal(random.randint(1, 100))\n",
    "            # Convert string URIs to URIRef objects first!\n",
    "            subj = URIRef(company)\n",
    "            obj = URIRef(target)\n",
    "            g.add((subj, EX_OWN.owns, obj))\n",
    "            g.add((subj, EX_OWN.percentage, share))\n",
    "            logger.debug(f\"Added ownership: {company} owns {share}% of {target}\")\n",
    "                \n",
    "        except Exception as e:\n",
    "            logger.error(f\"Failed to add triples for {company} -> {target}: {e}\")\n",
    "            continue  # Skip to next iteration\n",
    "    if (idx + 1) % 10 == 0:\n",
    "        logger.info(f\"Processed {idx + 1} companies\")\n",
    "\n",
    "# --- Save to Turtle ---\n",
    "logger.info(f\"Saving updated graph to {output_file}\")\n",
    "g.serialize(destination=output_file, format=\"turtle\")\n",
    "logger.info(\"Done. Ownership edges added and file saved.\")\n"
   ]
  },
  {
   "cell_type": "code",
   "execution_count": null,
   "metadata": {},
   "outputs": [],
   "source": []
  },
  {
   "cell_type": "code",
   "execution_count": null,
   "metadata": {},
   "outputs": [],
   "source": []
  },
  {
   "cell_type": "code",
   "execution_count": 25,
   "metadata": {},
   "outputs": [
    {
     "name": "stdout",
     "output_type": "stream",
     "text": [
      "[]\n"
     ]
    }
   ],
   "source": [
    "from rdflib import Graph, Namespace\n",
    "\n",
    "# Load the graph\n",
    "g = Graph()\n",
    "g.parse(\"Testdataset.rdf\", format=\"turtle\")  # Use actual file path\n",
    "\n",
    "# Define namespace correctly\n",
    "EX_COMP = Namespace(\"http://example.org/company/\")\n",
    "g.bind(\"ex_comp\", EX_COMP)  # Bind to prefix used in the file\n",
    "\n",
    "# Execute corrected query\n",
    "query = \"\"\"\n",
    "SELECT DISTINCT ?entity\n",
    "WHERE {\n",
    "    ?entity a ex:Company ;  # Uses ex:Company type from your data\n",
    "            ?p ?o .\n",
    "\n",
    "}\n",
    "\"\"\"\n",
    "results = g.query(query)\n",
    "ex_comp_entities = [str(row.entity) for row in results]\n",
    "print(ex_comp_entities)"
   ]
  }
 ],
 "metadata": {
  "kernelspec": {
   "display_name": ".venv",
   "language": "python",
   "name": "python3"
  },
  "language_info": {
   "codemirror_mode": {
    "name": "ipython",
    "version": 3
   },
   "file_extension": ".py",
   "mimetype": "text/x-python",
   "name": "python",
   "nbconvert_exporter": "python",
   "pygments_lexer": "ipython3",
   "version": "3.12.0"
  }
 },
 "nbformat": 4,
 "nbformat_minor": 2
}
